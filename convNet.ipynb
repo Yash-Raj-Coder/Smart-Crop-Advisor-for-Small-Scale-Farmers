{
 "cells": [
  {
   "cell_type": "markdown",
   "metadata": {},
   "source": [
    "### Building your network"
   ]
  },
  {
   "cell_type": "code",
   "execution_count": 1,
   "metadata": {},
   "outputs": [
    {
     "name": "stderr",
     "output_type": "stream",
     "text": [
      "Using TensorFlow backend.\n"
     ]
    },
    {
     "name": "stdout",
     "output_type": "stream",
     "text": [
      "_________________________________________________________________\n",
      "Layer (type)                 Output Shape              Param #   \n",
      "=================================================================\n",
      "conv2d_1 (Conv2D)            (None, 148, 148, 32)      320       \n",
      "_________________________________________________________________\n",
      "max_pooling2d_1 (MaxPooling2 (None, 74, 74, 32)        0         \n",
      "_________________________________________________________________\n",
      "conv2d_2 (Conv2D)            (None, 72, 72, 64)        18496     \n",
      "_________________________________________________________________\n",
      "max_pooling2d_2 (MaxPooling2 (None, 36, 36, 64)        0         \n",
      "_________________________________________________________________\n",
      "conv2d_3 (Conv2D)            (None, 34, 34, 128)       73856     \n",
      "_________________________________________________________________\n",
      "max_pooling2d_3 (MaxPooling2 (None, 17, 17, 128)       0         \n",
      "_________________________________________________________________\n",
      "conv2d_4 (Conv2D)            (None, 15, 15, 256)       295168    \n",
      "_________________________________________________________________\n",
      "max_pooling2d_4 (MaxPooling2 (None, 7, 7, 256)         0         \n",
      "_________________________________________________________________\n",
      "flatten_1 (Flatten)          (None, 12544)             0         \n",
      "_________________________________________________________________\n",
      "dropout_1 (Dropout)          (None, 12544)             0         \n",
      "_________________________________________________________________\n",
      "dense_1 (Dense)              (None, 128)               1605760   \n",
      "_________________________________________________________________\n",
      "dense_2 (Dense)              (None, 6)                 774       \n",
      "=================================================================\n",
      "Total params: 1,994,374\n",
      "Trainable params: 1,994,374\n",
      "Non-trainable params: 0\n",
      "_________________________________________________________________\n"
     ]
    }
   ],
   "source": [
    "from keras import layers\n",
    "from keras import models\n",
    "from keras import regularizers\n",
    "\n",
    "model = models.Sequential()\n",
    "model.add(layers.Conv2D(32, (3, 3), activation='relu',input_shape=(150, 150, 1)))\n",
    "model.add(layers.MaxPooling2D((2, 2)))\n",
    "model.add(layers.Conv2D(64, (3, 3), activation='relu'))\n",
    "model.add(layers.MaxPooling2D((2, 2)))\n",
    "model.add(layers.Conv2D(128, (3, 3), activation='relu'))\n",
    "model.add(layers.MaxPooling2D((2, 2)))\n",
    "model.add(layers.Conv2D(256, (3, 3), activation='relu'))\n",
    "model.add(layers.MaxPooling2D((2, 2)))\n",
    "model.add(layers.Flatten())\n",
    "model.add(layers.Dropout(0.65))\n",
    "model.add(layers.Dense(128, activation='relu' ,kernel_regularizer=regularizers.l2(0.002)))\n",
    "model.add(layers.Dense(6, activation='softmax'))\n",
    "\n",
    "model.summary()"
   ]
  },
  {
   "cell_type": "code",
   "execution_count": 2,
   "metadata": {},
   "outputs": [],
   "source": [
    "from keras import optimizers\n",
    "model.compile(loss='categorical_crossentropy',\n",
    "optimizer=optimizers.Adam(lr=1e-3),\n",
    "metrics=['acc'])"
   ]
  },
  {
   "cell_type": "markdown",
   "metadata": {},
   "source": [
    "### Data preprocessing\n",
    "Using ImageDataGenerator to read images from directories"
   ]
  },
  {
   "cell_type": "code",
   "execution_count": 3,
   "metadata": {},
   "outputs": [
    {
     "name": "stdout",
     "output_type": "stream",
     "text": [
      "Found 7245 images belonging to 6 classes.\n",
      "Found 1355 images belonging to 6 classes.\n"
     ]
    }
   ],
   "source": [
    "from keras.preprocessing.image import ImageDataGenerator\n",
    "\n",
    "train_dir = \"../dataset_splits/train\"\n",
    "validation_dir = \"../dataset_splits/validation\"\n",
    "\n",
    "# Rescales all images by 1/255\n",
    "train_datagen = ImageDataGenerator(rescale=1./255)\n",
    "validation_datagen = ImageDataGenerator(rescale=1./255)\n",
    "\n",
    "\n",
    "train_generator = train_datagen.flow_from_directory(\n",
    "    train_dir, # Target directory\n",
    "    target_size=(150, 150), #Resizes all images to 150 × 150\n",
    "    color_mode='grayscale',\n",
    "    batch_size=32,\n",
    "    class_mode='categorical') #Because you use binary_crossentropy loss, you need binary labels\n",
    "\n",
    "\n",
    "validation_generator = validation_datagen.flow_from_directory(\n",
    "    validation_dir,\n",
    "    target_size=(150, 150),\n",
    "    color_mode='grayscale',\n",
    "    batch_size=32,\n",
    "    class_mode='categorical')"
   ]
  },
  {
   "cell_type": "markdown",
   "metadata": {},
   "source": [
    "### Fitting the model using a batch generator"
   ]
  },
  {
   "cell_type": "code",
   "execution_count": 4,
   "metadata": {},
   "outputs": [
    {
     "name": "stdout",
     "output_type": "stream",
     "text": [
      "Epoch 1/80\n",
      "230/230 [==============================] - 80s 347ms/step - loss: 1.3512 - acc: 0.5309 - val_loss: 0.9872 - val_acc: 0.6952\n",
      "Epoch 2/80\n",
      "230/230 [==============================] - 72s 312ms/step - loss: 0.9863 - acc: 0.6924 - val_loss: 0.7947 - val_acc: 0.7734\n",
      "Epoch 3/80\n",
      "230/230 [==============================] - 72s 313ms/step - loss: 0.8534 - acc: 0.7513 - val_loss: 0.7974 - val_acc: 0.7668\n",
      "Epoch 4/80\n",
      "230/230 [==============================] - 72s 312ms/step - loss: 0.7979 - acc: 0.7822 - val_loss: 0.7412 - val_acc: 0.7993\n",
      "Epoch 5/80\n",
      "230/230 [==============================] - 72s 312ms/step - loss: 0.7082 - acc: 0.8157 - val_loss: 0.6380 - val_acc: 0.8487\n",
      "Epoch 6/80\n",
      "230/230 [==============================] - 72s 312ms/step - loss: 0.6936 - acc: 0.8222 - val_loss: 0.5958 - val_acc: 0.8598\n",
      "Epoch 7/80\n",
      "230/230 [==============================] - 72s 312ms/step - loss: 0.6562 - acc: 0.8389 - val_loss: 0.5477 - val_acc: 0.8834\n",
      "Epoch 8/80\n",
      "230/230 [==============================] - 72s 312ms/step - loss: 0.6204 - acc: 0.8525 - val_loss: 0.6086 - val_acc: 0.8613\n",
      "Epoch 9/80\n",
      "230/230 [==============================] - 72s 312ms/step - loss: 0.5924 - acc: 0.8726 - val_loss: 0.6073 - val_acc: 0.8605\n",
      "Epoch 10/80\n",
      "230/230 [==============================] - 72s 312ms/step - loss: 0.5749 - acc: 0.8809 - val_loss: 0.5585 - val_acc: 0.8827\n",
      "Epoch 11/80\n",
      "230/230 [==============================] - 72s 312ms/step - loss: 0.5651 - acc: 0.8823 - val_loss: 0.5364 - val_acc: 0.8841\n",
      "Epoch 12/80\n",
      "230/230 [==============================] - 72s 312ms/step - loss: 0.5434 - acc: 0.8910 - val_loss: 0.5747 - val_acc: 0.8930\n",
      "Epoch 13/80\n",
      "230/230 [==============================] - 72s 312ms/step - loss: 0.5349 - acc: 0.8971 - val_loss: 0.5329 - val_acc: 0.8959\n",
      "Epoch 14/80\n",
      "230/230 [==============================] - 72s 312ms/step - loss: 0.5406 - acc: 0.8972 - val_loss: 0.5747 - val_acc: 0.8878\n",
      "Epoch 15/80\n",
      "230/230 [==============================] - 72s 312ms/step - loss: 0.5125 - acc: 0.9085 - val_loss: 0.5113 - val_acc: 0.9048\n",
      "Epoch 16/80\n",
      "230/230 [==============================] - 72s 312ms/step - loss: 0.5097 - acc: 0.9104 - val_loss: 0.5997 - val_acc: 0.8827\n",
      "Epoch 17/80\n",
      "230/230 [==============================] - 72s 312ms/step - loss: 0.4984 - acc: 0.9154 - val_loss: 0.5109 - val_acc: 0.9085\n",
      "Epoch 18/80\n",
      "230/230 [==============================] - 72s 312ms/step - loss: 0.4948 - acc: 0.9173 - val_loss: 0.5557 - val_acc: 0.8989\n",
      "Epoch 19/80\n",
      "230/230 [==============================] - 72s 312ms/step - loss: 0.4716 - acc: 0.9234 - val_loss: 0.5039 - val_acc: 0.9151\n",
      "Epoch 20/80\n",
      "230/230 [==============================] - 72s 312ms/step - loss: 0.4546 - acc: 0.9304 - val_loss: 0.5425 - val_acc: 0.9055\n",
      "Epoch 21/80\n",
      "230/230 [==============================] - 72s 312ms/step - loss: 0.4729 - acc: 0.9243 - val_loss: 0.5628 - val_acc: 0.9026\n",
      "Epoch 22/80\n",
      "230/230 [==============================] - 72s 312ms/step - loss: 0.4639 - acc: 0.9260 - val_loss: 0.5105 - val_acc: 0.9137\n",
      "Epoch 23/80\n",
      "230/230 [==============================] - 72s 312ms/step - loss: 0.4546 - acc: 0.9321 - val_loss: 0.5414 - val_acc: 0.9137\n",
      "Epoch 24/80\n",
      "230/230 [==============================] - 72s 312ms/step - loss: 0.4501 - acc: 0.9332 - val_loss: 0.4868 - val_acc: 0.9196\n",
      "Epoch 25/80\n",
      "230/230 [==============================] - 72s 313ms/step - loss: 0.4508 - acc: 0.9318 - val_loss: 0.5234 - val_acc: 0.9122\n",
      "Epoch 26/80\n",
      "230/230 [==============================] - 72s 313ms/step - loss: 0.4463 - acc: 0.9352 - val_loss: 0.5014 - val_acc: 0.9232\n",
      "Epoch 27/80\n",
      "230/230 [==============================] - 72s 314ms/step - loss: 0.4406 - acc: 0.9375 - val_loss: 0.4757 - val_acc: 0.9196\n",
      "Epoch 28/80\n",
      "230/230 [==============================] - 72s 312ms/step - loss: 0.4170 - acc: 0.9405 - val_loss: 0.4772 - val_acc: 0.9277\n",
      "Epoch 29/80\n",
      "230/230 [==============================] - 72s 313ms/step - loss: 0.4311 - acc: 0.9394 - val_loss: 0.4703 - val_acc: 0.9284\n",
      "Epoch 30/80\n",
      "230/230 [==============================] - 72s 313ms/step - loss: 0.4342 - acc: 0.9393 - val_loss: 0.5366 - val_acc: 0.9077\n",
      "Epoch 31/80\n",
      "230/230 [==============================] - 72s 313ms/step - loss: 0.4036 - acc: 0.9470 - val_loss: 0.5811 - val_acc: 0.8856\n",
      "Epoch 32/80\n",
      "230/230 [==============================] - 72s 313ms/step - loss: 0.3888 - acc: 0.9518 - val_loss: 0.4915 - val_acc: 0.9159\n",
      "Epoch 33/80\n",
      "230/230 [==============================] - 72s 313ms/step - loss: 0.4095 - acc: 0.9450 - val_loss: 0.4666 - val_acc: 0.9321\n",
      "Epoch 34/80\n",
      "230/230 [==============================] - 72s 313ms/step - loss: 0.4041 - acc: 0.9495 - val_loss: 0.4836 - val_acc: 0.9255\n",
      "Epoch 35/80\n",
      "230/230 [==============================] - 72s 313ms/step - loss: 0.3819 - acc: 0.9520 - val_loss: 0.4780 - val_acc: 0.9173\n",
      "Epoch 36/80\n",
      "230/230 [==============================] - 72s 313ms/step - loss: 0.3819 - acc: 0.9499 - val_loss: 0.4775 - val_acc: 0.9247\n",
      "Epoch 37/80\n",
      "230/230 [==============================] - 72s 312ms/step - loss: 0.4156 - acc: 0.9431 - val_loss: 0.4836 - val_acc: 0.9284\n",
      "Epoch 38/80\n",
      "230/230 [==============================] - 72s 313ms/step - loss: 0.4001 - acc: 0.9471 - val_loss: 0.5140 - val_acc: 0.9107\n",
      "Epoch 39/80\n",
      "230/230 [==============================] - 72s 313ms/step - loss: 0.4037 - acc: 0.9455 - val_loss: 0.4882 - val_acc: 0.9196\n",
      "Epoch 40/80\n",
      "230/230 [==============================] - 72s 313ms/step - loss: 0.3830 - acc: 0.9550 - val_loss: 0.4792 - val_acc: 0.9188\n",
      "Epoch 41/80\n",
      "230/230 [==============================] - 72s 313ms/step - loss: 0.3633 - acc: 0.9602 - val_loss: 0.4708 - val_acc: 0.9181\n",
      "Epoch 42/80\n",
      "230/230 [==============================] - 72s 312ms/step - loss: 0.3829 - acc: 0.9505 - val_loss: 0.4619 - val_acc: 0.9240\n",
      "Epoch 43/80\n",
      "230/230 [==============================] - 72s 312ms/step - loss: 0.3853 - acc: 0.9500 - val_loss: 0.4874 - val_acc: 0.9210\n",
      "Epoch 44/80\n",
      "230/230 [==============================] - 72s 313ms/step - loss: 0.3781 - acc: 0.9527 - val_loss: 0.4736 - val_acc: 0.9232\n",
      "Epoch 45/80\n",
      "230/230 [==============================] - 72s 313ms/step - loss: 0.3511 - acc: 0.9586 - val_loss: 0.4894 - val_acc: 0.9240\n",
      "Epoch 46/80\n",
      "230/230 [==============================] - 72s 312ms/step - loss: 0.3522 - acc: 0.9588 - val_loss: 0.5493 - val_acc: 0.8989\n",
      "Epoch 47/80\n",
      "230/230 [==============================] - 72s 314ms/step - loss: 0.3636 - acc: 0.9576 - val_loss: 0.4320 - val_acc: 0.9380\n",
      "Epoch 48/80\n",
      "230/230 [==============================] - 72s 314ms/step - loss: 0.3388 - acc: 0.9643 - val_loss: 0.4966 - val_acc: 0.9284\n",
      "Epoch 49/80\n",
      "230/230 [==============================] - 72s 314ms/step - loss: 0.3527 - acc: 0.9585 - val_loss: 0.5012 - val_acc: 0.9173\n",
      "Epoch 50/80\n",
      "230/230 [==============================] - 72s 312ms/step - loss: 0.3469 - acc: 0.9595 - val_loss: 0.4852 - val_acc: 0.9232\n",
      "Epoch 51/80\n",
      "230/230 [==============================] - 72s 313ms/step - loss: 0.3278 - acc: 0.9648 - val_loss: 0.4822 - val_acc: 0.9358\n",
      "Epoch 52/80\n",
      "230/230 [==============================] - 72s 312ms/step - loss: 0.3309 - acc: 0.9607 - val_loss: 0.4471 - val_acc: 0.9284\n",
      "Epoch 53/80\n",
      "230/230 [==============================] - 72s 311ms/step - loss: 0.3235 - acc: 0.9670 - val_loss: 0.4536 - val_acc: 0.9321\n",
      "Epoch 54/80\n",
      "230/230 [==============================] - 72s 312ms/step - loss: 0.3501 - acc: 0.9588 - val_loss: 0.4282 - val_acc: 0.9314\n",
      "Epoch 55/80\n",
      "230/230 [==============================] - 72s 313ms/step - loss: 0.3262 - acc: 0.9640 - val_loss: 0.4339 - val_acc: 0.9343\n",
      "Epoch 56/80\n",
      "230/230 [==============================] - 72s 312ms/step - loss: 0.3186 - acc: 0.9663 - val_loss: 0.4616 - val_acc: 0.9232\n",
      "Epoch 57/80\n",
      "230/230 [==============================] - 72s 312ms/step - loss: 0.3460 - acc: 0.9590 - val_loss: 0.4481 - val_acc: 0.9284\n",
      "Epoch 58/80\n",
      "230/230 [==============================] - 72s 312ms/step - loss: 0.3263 - acc: 0.9636 - val_loss: 0.4245 - val_acc: 0.9373\n",
      "Epoch 59/80\n",
      "230/230 [==============================] - 72s 312ms/step - loss: 0.3149 - acc: 0.9658 - val_loss: 0.4304 - val_acc: 0.9336\n",
      "Epoch 60/80\n",
      "230/230 [==============================] - 72s 312ms/step - loss: 0.3334 - acc: 0.9587 - val_loss: 0.4319 - val_acc: 0.9380\n",
      "Epoch 61/80\n"
     ]
    },
    {
     "name": "stdout",
     "output_type": "stream",
     "text": [
      "230/230 [==============================] - 72s 311ms/step - loss: 0.3197 - acc: 0.9671 - val_loss: 0.4818 - val_acc: 0.9100\n",
      "Epoch 62/80\n",
      "230/230 [==============================] - 72s 311ms/step - loss: 0.3175 - acc: 0.9641 - val_loss: 0.4489 - val_acc: 0.9255\n",
      "Epoch 63/80\n",
      "230/230 [==============================] - 72s 312ms/step - loss: 0.3047 - acc: 0.9704 - val_loss: 0.4389 - val_acc: 0.9299\n",
      "Epoch 64/80\n",
      "230/230 [==============================] - 72s 314ms/step - loss: 0.3223 - acc: 0.9622 - val_loss: 0.4899 - val_acc: 0.9122\n",
      "Epoch 65/80\n",
      "230/230 [==============================] - 72s 312ms/step - loss: 0.3231 - acc: 0.9647 - val_loss: 0.4237 - val_acc: 0.9365\n",
      "Epoch 66/80\n",
      "230/230 [==============================] - 72s 313ms/step - loss: 0.3117 - acc: 0.9665 - val_loss: 0.3808 - val_acc: 0.9454\n",
      "Epoch 67/80\n",
      "230/230 [==============================] - 72s 312ms/step - loss: 0.3044 - acc: 0.9685 - val_loss: 0.4432 - val_acc: 0.9336\n",
      "Epoch 68/80\n",
      "230/230 [==============================] - 72s 311ms/step - loss: 0.3095 - acc: 0.9657 - val_loss: 0.4055 - val_acc: 0.9380\n",
      "Epoch 69/80\n",
      "230/230 [==============================] - 72s 313ms/step - loss: 0.3011 - acc: 0.9673 - val_loss: 0.4414 - val_acc: 0.9321\n",
      "Epoch 70/80\n",
      "230/230 [==============================] - 72s 313ms/step - loss: 0.2973 - acc: 0.9674 - val_loss: 0.4664 - val_acc: 0.9188\n",
      "Epoch 71/80\n",
      "230/230 [==============================] - 72s 311ms/step - loss: 0.2758 - acc: 0.9749 - val_loss: 0.4049 - val_acc: 0.9269\n",
      "Epoch 72/80\n",
      "230/230 [==============================] - 72s 312ms/step - loss: 0.2834 - acc: 0.9692 - val_loss: 0.4498 - val_acc: 0.9159\n",
      "Epoch 73/80\n",
      "230/230 [==============================] - 72s 312ms/step - loss: 0.3019 - acc: 0.9648 - val_loss: 0.4693 - val_acc: 0.9114\n",
      "Epoch 74/80\n",
      "230/230 [==============================] - 72s 311ms/step - loss: 0.3002 - acc: 0.9696 - val_loss: 0.4234 - val_acc: 0.9402\n",
      "Epoch 75/80\n",
      "230/230 [==============================] - 72s 314ms/step - loss: 0.2940 - acc: 0.9704 - val_loss: 0.3924 - val_acc: 0.9476\n",
      "Epoch 76/80\n",
      "230/230 [==============================] - 72s 312ms/step - loss: 0.3007 - acc: 0.9681 - val_loss: 0.5335 - val_acc: 0.9085\n",
      "Epoch 77/80\n",
      "230/230 [==============================] - 72s 312ms/step - loss: 0.2960 - acc: 0.9686 - val_loss: 0.4692 - val_acc: 0.9137\n",
      "Epoch 78/80\n",
      "230/230 [==============================] - 72s 311ms/step - loss: 0.2838 - acc: 0.9715 - val_loss: 0.4021 - val_acc: 0.9358\n",
      "Epoch 79/80\n",
      "230/230 [==============================] - 72s 311ms/step - loss: 0.2660 - acc: 0.9753 - val_loss: 0.3782 - val_acc: 0.9469\n",
      "Epoch 80/80\n",
      "230/230 [==============================] - 72s 312ms/step - loss: 0.2753 - acc: 0.9715 - val_loss: 0.3989 - val_acc: 0.9365\n"
     ]
    }
   ],
   "source": [
    "history = model.fit_generator(\n",
    "    train_generator,\n",
    "    steps_per_epoch=230,\n",
    "    epochs=80,\n",
    "    validation_data=validation_generator,\n",
    "    validation_steps=43)"
   ]
  },
  {
   "cell_type": "markdown",
   "metadata": {},
   "source": [
    "### Saving the model"
   ]
  },
  {
   "cell_type": "code",
   "execution_count": 5,
   "metadata": {},
   "outputs": [],
   "source": [
    "model.save('./saved model/tomato_small_1.h5')"
   ]
  },
  {
   "cell_type": "markdown",
   "metadata": {},
   "source": [
    "### Displaying curves of loss and accuracy during training"
   ]
  },
  {
   "cell_type": "code",
   "execution_count": 6,
   "metadata": {},
   "outputs": [
    {
     "data": {
      "image/png": "[encoded data removed]",
      "text/plain": [
       "<Figure size 432x288 with 1 Axes>"
      ]
     },
     "metadata": {
      "needs_background": "light"
     },
     "output_type": "display_data"
    },
    {
     "data": {
      "image/png": "[encoded data removed]",
      "text/plain": [
       "<Figure size 432x288 with 1 Axes>"
      ]
     },
     "metadata": {
      "needs_background": "light"
     },
     "output_type": "display_data"
    }
   ],
   "source": [
    "import matplotlib.pyplot as plt\n",
    "# Config the matplotlib backend as plotting inline in IPython\n",
    "%matplotlib inline\n",
    "\n",
    "acc = history.history['acc']\n",
    "val_acc = history.history['val_acc']\n",
    "loss = history.history['loss']\n",
    "val_loss = history.history['val_loss']\n",
    "epochs = range(1, len(acc) + 1)\n",
    "plt.plot(epochs, acc, 'bo', label='Training acc')\n",
    "plt.plot(epochs, val_acc, 'b', label='Validation acc')\n",
    "plt.title('Training and validation accuracy')\n",
    "plt.legend()\n",
    "plt.figure()\n",
    "plt.plot(epochs, loss, 'bo', label='Training loss')\n",
    "plt.plot(epochs, val_loss, 'b', label='Validation loss')\n",
    "plt.title('Training and validation loss')\n",
    "plt.legend()\n",
    "plt.show()"
   ]
  },
  {
   "cell_type": "markdown",
   "metadata": {},
   "source": [
    "### Train the model on all samples (Training and Validation)"
   ]
  },
  {
   "cell_type": "code",
   "execution_count": 7,
   "metadata": {},
   "outputs": [
    {
     "name": "stdout",
     "output_type": "stream",
     "text": [
      "Found 448 images belonging to 6 classes.\n"
     ]
    }
   ],
   "source": [
    "test_dir = \"../dataset_splits/test\"\n",
    "\n",
    "test_datagen = ImageDataGenerator(rescale=1./255)\n",
    "\n",
    "\n",
    "test_generator = test_datagen.flow_from_directory(\n",
    "    test_dir, # Target directory\n",
    "    target_size=(150, 150), #Resizes all images to 150 × 150\n",
    "    color_mode='grayscale',\n",
    "    batch_size=32,\n",
    "    class_mode='categorical') #Because you use binary_crossentropy loss, you need binary labels\n"
   ]
  },
  {
   "cell_type": "code",
   "execution_count": 8,
   "metadata": {},
   "outputs": [],
   "source": [
    "score = model.evaluate_generator(test_generator, steps=40, max_queue_size=10, workers=1, use_multiprocessing=False, verbose=0)"
   ]
  },
  {
   "cell_type": "code",
   "execution_count": 9,
   "metadata": {},
   "outputs": [
    {
     "name": "stdout",
     "output_type": "stream",
     "text": [
      "[0.38868151381611826, 0.95546875]\n"
     ]
    }
   ],
   "source": [
    "print(score)"
   ]
  },
  {
   "cell_type": "code",
   "execution_count": null,
   "metadata": {},
   "outputs": [],
   "source": []
  }
 ],
 "metadata": {
  "kernelspec": {
   "display_name": "Python 3",
   "language": "python",
   "name": "python3"
  },
  "language_info": {
   "codemirror_mode": {
    "name": "ipython",
    "version": 3
   },
   "file_extension": ".py",
   "mimetype": "text/x-python",
   "name": "python",
   "nbconvert_exporter": "python",
   "pygments_lexer": "ipython3",
   "version": "3.6.7"
  }
 },
 "nbformat": 4,
 "nbformat_minor": 2
}
